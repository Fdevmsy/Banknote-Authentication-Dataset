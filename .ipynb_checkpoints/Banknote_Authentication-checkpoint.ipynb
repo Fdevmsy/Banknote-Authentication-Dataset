{
 "cells": [
  {
   "cell_type": "markdown",
   "metadata": {},
   "source": [
    "# Banknote Authentication Dataset Analysis\n",
    "**Shiyu Mou**\n",
    "\n",
    "**shiyumou@usc.edu**\n",
    "\n",
    "**USCID: 8708001134**\n",
    "\n",
    "**May 28, 2018**"
   ]
  },
  {
   "cell_type": "code",
   "execution_count": 406,
   "metadata": {},
   "outputs": [],
   "source": [
    "import numpy as np\n",
    "import scipy as sp\n",
    "%matplotlib inline\n",
    "import matplotlib.pyplot as plt\n",
    "import pandas as pd\n",
    "from pandas.plotting import scatter_matrix\n",
    "from sklearn.neighbors import KNeighborsClassifier\n",
    "from sklearn.metrics import confusion_matrix\n",
    "from sklearn.cross_validation import cross_val_score\n",
    "from sklearn.preprocessing import StandardScaler\n",
    "from sklearn.neighbors import NearestNeighbors\n",
    "from sklearn import preprocessing\n",
    "# from sklearn.model_selection import cross_validate"
   ]
  },
  {
   "cell_type": "markdown",
   "metadata": {},
   "source": [
    "## Preprocessing "
   ]
  },
  {
   "cell_type": "code",
   "execution_count": 407,
   "metadata": {},
   "outputs": [],
   "source": [
    "def load_data():   \n",
    "    filename = \"data_banknote_authentication.txt\"\n",
    "    df = pd.read_csv(filename, names=['Variance', 'Skewness', 'Curtosis', 'Entropy', 'Class'])\n",
    "    X = df.iloc[:, :4]\n",
    "    y = df[\"Class\"]  \n",
    "    return df, X, y"
   ]
  },
  {
   "cell_type": "code",
   "execution_count": 408,
   "metadata": {},
   "outputs": [
    {
     "data": {
      "text/html": [
       "<div>\n",
       "<style>\n",
       "    .dataframe thead tr:only-child th {\n",
       "        text-align: right;\n",
       "    }\n",
       "\n",
       "    .dataframe thead th {\n",
       "        text-align: left;\n",
       "    }\n",
       "\n",
       "    .dataframe tbody tr th {\n",
       "        vertical-align: top;\n",
       "    }\n",
       "</style>\n",
       "<table border=\"1\" class=\"dataframe\">\n",
       "  <thead>\n",
       "    <tr style=\"text-align: right;\">\n",
       "      <th></th>\n",
       "      <th>Variance</th>\n",
       "      <th>Skewness</th>\n",
       "      <th>Curtosis</th>\n",
       "      <th>Entropy</th>\n",
       "      <th>Class</th>\n",
       "    </tr>\n",
       "  </thead>\n",
       "  <tbody>\n",
       "    <tr>\n",
       "      <th>0</th>\n",
       "      <td>3.62160</td>\n",
       "      <td>8.6661</td>\n",
       "      <td>-2.8073</td>\n",
       "      <td>-0.44699</td>\n",
       "      <td>0</td>\n",
       "    </tr>\n",
       "    <tr>\n",
       "      <th>1</th>\n",
       "      <td>4.54590</td>\n",
       "      <td>8.1674</td>\n",
       "      <td>-2.4586</td>\n",
       "      <td>-1.46210</td>\n",
       "      <td>0</td>\n",
       "    </tr>\n",
       "    <tr>\n",
       "      <th>2</th>\n",
       "      <td>3.86600</td>\n",
       "      <td>-2.6383</td>\n",
       "      <td>1.9242</td>\n",
       "      <td>0.10645</td>\n",
       "      <td>0</td>\n",
       "    </tr>\n",
       "    <tr>\n",
       "      <th>3</th>\n",
       "      <td>3.45660</td>\n",
       "      <td>9.5228</td>\n",
       "      <td>-4.0112</td>\n",
       "      <td>-3.59440</td>\n",
       "      <td>0</td>\n",
       "    </tr>\n",
       "    <tr>\n",
       "      <th>4</th>\n",
       "      <td>0.32924</td>\n",
       "      <td>-4.4552</td>\n",
       "      <td>4.5718</td>\n",
       "      <td>-0.98880</td>\n",
       "      <td>0</td>\n",
       "    </tr>\n",
       "  </tbody>\n",
       "</table>\n",
       "</div>"
      ],
      "text/plain": [
       "   Variance  Skewness  Curtosis  Entropy  Class\n",
       "0   3.62160    8.6661   -2.8073 -0.44699      0\n",
       "1   4.54590    8.1674   -2.4586 -1.46210      0\n",
       "2   3.86600   -2.6383    1.9242  0.10645      0\n",
       "3   3.45660    9.5228   -4.0112 -3.59440      0\n",
       "4   0.32924   -4.4552    4.5718 -0.98880      0"
      ]
     },
     "execution_count": 408,
     "metadata": {},
     "output_type": "execute_result"
    }
   ],
   "source": [
    "df, X, y = load_data()\n",
    "df.head()"
   ]
  },
  {
   "cell_type": "code",
   "execution_count": 409,
   "metadata": {},
   "outputs": [],
   "source": [
    "def plotScatter(df):\n",
    "    color_list = list()\n",
    "    for i in df[\"Class\"]:\n",
    "        if i == 1:\n",
    "            color_list.append('r')\n",
    "        else:\n",
    "            color_list.append('b')\n",
    "    \n",
    "    pd.plotting.scatter_matrix(df.iloc[:,:4], color=color_list)\n",
    "    "
   ]
  },
  {
   "cell_type": "code",
   "execution_count": 410,
   "metadata": {},
   "outputs": [
    {
     "data": {
      "image/png": "[encoded data removed]",
      "text/plain": [
       "<matplotlib.figure.Figure at 0x146b20588>"
      ]
     },
     "metadata": {},
     "output_type": "display_data"
    }
   ],
   "source": [
    "plotScatter(df)"
   ]
  },
  {
   "cell_type": "code",
   "execution_count": 411,
   "metadata": {
    "collapsed": true
   },
   "outputs": [],
   "source": [
    "def boxplot(df):   \n",
    "    df.boxplot(column=['Variance', 'Skewness', 'Curtosis', 'Entropy'], by = 'Class', layout = (2,2))"
   ]
  },
  {
   "cell_type": "code",
   "execution_count": 412,
   "metadata": {},
   "outputs": [
    {
     "data": {
      "image/png": "[encoded data removed]",
      "text/plain": [
       "<matplotlib.figure.Figure at 0x148952048>"
      ]
     },
     "metadata": {},
     "output_type": "display_data"
    }
   ],
   "source": [
    "boxplot(df)"
   ]
  },
  {
   "cell_type": "code",
   "execution_count": 434,
   "metadata": {
    "collapsed": true
   },
   "outputs": [],
   "source": [
    "def sliceDataset(df):\n",
    "    first_non_zero = next((i for i, x in enumerate(df[\"Class\"]) if x==1), None)\n",
    "    train_df_1 = df.iloc[200:first_non_zero, :]\n",
    "    train_df_2 = df.iloc[first_non_zero+200:, :]\n",
    "    train_df = pd.concat([train_df_1, train_df_2])\n",
    "    test_df_1 = df.iloc[:200, :]\n",
    "    test_df_2 = df.iloc[first_non_zero:first_non_zero+200, :]\n",
    "    test_df = pd.concat([test_df_1, test_df_2])\n",
    "    X_train = train_df.iloc[:, :4]\n",
    "#     X_train = normalize(X_train)\n",
    "    y_train = train_df['Class']\n",
    "    X_test = test_df.iloc[:, :4]\n",
    "#     X_test = normalize(X_test)\n",
    "    y_test = test_df['Class']\n",
    "    return train_df, X_train, y_train, X_test, y_test"
   ]
  },
  {
   "cell_type": "code",
   "execution_count": 435,
   "metadata": {
    "collapsed": true
   },
   "outputs": [],
   "source": [
    "def normalize(df):\n",
    "    x = df.values #returns a numpy array\n",
    "    min_max_scaler = preprocessing.MinMaxScaler()\n",
    "    x_scaled = min_max_scaler.fit_transform(x)\n",
    "    df = pd.DataFrame(x_scaled)\n",
    "    return df"
   ]
  },
  {
   "cell_type": "markdown",
   "metadata": {},
   "source": [
    "**Notice: It seems like in this case, normalization will make the performance worse**"
   ]
  },
  {
   "cell_type": "markdown",
   "metadata": {},
   "source": [
    "## Vanila kNN and performance"
   ]
  },
  {
   "cell_type": "code",
   "execution_count": 436,
   "metadata": {},
   "outputs": [],
   "source": [
    "train_df, X_train, y_train, X_test, y_test = sliceDataset(df)\n",
    "# X_train, X_test = standardlize(X_train, X_test)\n",
    "# X_train"
   ]
  },
  {
   "cell_type": "code",
   "execution_count": 437,
   "metadata": {
    "collapsed": true
   },
   "outputs": [],
   "source": [
    "def knnClassifier(X_train, y_train, k):\n",
    "\n",
    "    neigh = KNeighborsClassifier(n_neighbors=k, p=2)\n",
    "    neigh.fit(X_train, y_train) \n",
    "\n",
    "    return neigh"
   ]
  },
  {
   "cell_type": "code",
   "execution_count": 438,
   "metadata": {},
   "outputs": [
    {
     "name": "stdout",
     "output_type": "stream",
     "text": [
      "Optimal k is: 1\n"
     ]
    }
   ],
   "source": [
    "k_list = [i for i in range(1,904,3)]\n",
    "train_errors = list()\n",
    "test_errors = list()\n",
    "for k in k_list:\n",
    "    model = knnClassifier(X_train, y_train, k)\n",
    "    train_errors.append(model.score(X_train, y_train))\n",
    "    test_errors.append(model.score(X_test, y_test))\n",
    "\n",
    "index_k = np.argmax(test_errors)\n",
    "best_k = k_list[index_k]\n",
    "print(\"Optimal k is: %s\" % best_k)"
   ]
  },
  {
   "cell_type": "code",
   "execution_count": 439,
   "metadata": {},
   "outputs": [],
   "source": [
    "def train_test_error(k_list, train_errors, test_errors):\n",
    "    k_list = np.asarray(k_list)\n",
    "    inverse_k_list = 1. / k_list\n",
    "\n",
    "    plt.subplot(1, 1, 1)\n",
    "    plt.semilogx(inverse_k_list, train_errors, label='Train')\n",
    "    plt.semilogx(inverse_k_list, test_errors, label='Test')\n",
    "    plt.vlines(best_k, plt.ylim()[0], np.max(test_errors), color='k',\n",
    "               linewidth=3, label='Optimum on test')\n",
    "    plt.legend(loc='lower left')\n",
    "    plt.ylim([0, 1.2])\n",
    "    plt.xlabel('1/k')\n",
    "    plt.ylabel('Performance')"
   ]
  },
  {
   "cell_type": "code",
   "execution_count": 440,
   "metadata": {},
   "outputs": [
    {
     "data": {
      "image/png": "[encoded data removed]",
      "text/plain": [
       "<matplotlib.figure.Figure at 0x1495010f0>"
      ]
     },
     "metadata": {},
     "output_type": "display_data"
    }
   ],
   "source": [
    "train_test_error(k_list, train_errors, test_errors)"
   ]
  },
  {
   "cell_type": "code",
   "execution_count": 441,
   "metadata": {},
   "outputs": [
    {
     "name": "stdout",
     "output_type": "stream",
     "text": [
      "Best score:  1.0\n"
     ]
    }
   ],
   "source": [
    "best_model = knnClassifier(X_train, y_train, best_k)\n",
    "print('Best score: ', best_model.score(X_test, y_test))\n",
    "pred = best_model.predict(X_test)"
   ]
  },
  {
   "cell_type": "code",
   "execution_count": 442,
   "metadata": {
    "collapsed": true
   },
   "outputs": [],
   "source": [
    "def summary(model, X_test, y_test, pred):\n",
    "    confusion_Matrix = confusion_matrix(y_test, pred)\n",
    "    f1_score = cross_val_score(model, X_test, y_test, cv=10, scoring='f1').mean()\n",
    "    print('Confusion Matrix', confusion_Matrix)\n",
    "    print('True positive: ', confusion_Matrix[0][0])\n",
    "    print('True negative: ', confusion_Matrix[1][1])\n",
    "    # Precision = TP/TP+FP\n",
    "    precision = confusion_Matrix[0][0]/(confusion_Matrix[0][0]+confusion_Matrix[0][1])\n",
    "    print('Precision: ', precision)\n",
    "    # Recall = TP/TP+FN\n",
    "    recall = confusion_Matrix[0][0]/(confusion_Matrix[0][0]+confusion_Matrix[1][0])\n",
    "    print('Recall: ', recall)\n",
    "    # F1 Score = 2*(Recall * Precision) / (Recall + Precision)\n",
    "    print('F-score: ', 2*(recall*precision)/(recall+precision))"
   ]
  },
  {
   "cell_type": "code",
   "execution_count": 443,
   "metadata": {
    "scrolled": true
   },
   "outputs": [
    {
     "name": "stdout",
     "output_type": "stream",
     "text": [
      "Confusion Matrix [[200   0]\n",
      " [  0 200]]\n",
      "True positive:  200\n",
      "True negative:  200\n",
      "Precision:  1.0\n",
      "Recall:  1.0\n",
      "F-score:  1.0\n"
     ]
    }
   ],
   "source": [
    "summary(best_model, X_test, y_test, pred)"
   ]
  },
  {
   "cell_type": "markdown",
   "metadata": {},
   "source": [
    "## Learning Curve"
   ]
  },
  {
   "cell_type": "code",
   "execution_count": 444,
   "metadata": {},
   "outputs": [],
   "source": [
    "def makeSubset(train_df, n):\n",
    "    train_df_1 = train_df.iloc[0:int(n/2), :]\n",
    "    first_one = next((i for i, x in enumerate(train_df[\"Class\"]) if x==1), None)\n",
    "    train_df_2 = train_df.iloc[first_one:first_one+int(n/2), :]\n",
    "    train_df_sub = pd.concat([train_df_1, train_df_2])\n",
    "    X_train_sub = train_df_sub.iloc[:, :4]\n",
    "    y_train_sub = train_df_sub['Class']\n",
    "    return X_train_sub, y_train_sub"
   ]
  },
  {
   "cell_type": "code",
   "execution_count": 516,
   "metadata": {
    "collapsed": true
   },
   "outputs": [],
   "source": [
    "def plotLearningCurve(train_df, X_test, y_test):\n",
    "    N_list = [i for i in range(50,801,50)] # 900 doesn't work, class 1 is not enough\n",
    "    best_error_list = list()\n",
    "    best_train_error_list = list()\n",
    "    for n in N_list:\n",
    "        X_train_sub, y_train_sub = makeSubset(train_df, n)    \n",
    "        k_list = [i for i in range(1,n,40)]\n",
    "        train_errors = list()\n",
    "        test_errors = list()\n",
    "        for k in k_list:\n",
    "            model = knnClassifier(X_train_sub, y_train_sub, k)\n",
    "            train_errors.append(model.score(X_train, y_train))\n",
    "            test_errors.append(model.score(X_test, y_test))  \n",
    "        best_train_error = max(train_errors)\n",
    "#         print(\"Lowest training error: \", min(train_errors))\n",
    "        best_error_rate = max(test_errors)\n",
    "        best_train_error_list.append(best_train_error)\n",
    "        best_error_list.append(best_error_rate)\n",
    "    \n",
    "    plt.figure()\n",
    "    plt.title(\"Learning Curve\")\n",
    "    plt.xlabel(\"Training examples\")\n",
    "    plt.ylabel(\"Score\")\n",
    "    plt.grid()\n",
    "\n",
    "    plt.plot(N_list, best_train_error_list, 'o-', color=\"r\",\n",
    "             label=\"Training score\")\n",
    "    plt.plot(N_list, best_error_list, 'o-', color=\"g\",\n",
    "             label=\"Test score\")\n",
    "\n",
    "    plt.legend(loc=\"best\")\n",
    "   "
   ]
  },
  {
   "cell_type": "code",
   "execution_count": 517,
   "metadata": {},
   "outputs": [
    {
     "data": {
      "image/png": "[encoded data removed]",
      "text/plain": [
       "<matplotlib.figure.Figure at 0x14813ffd0>"
      ]
     },
     "metadata": {},
     "output_type": "display_data"
    }
   ],
   "source": [
    "plotLearningCurve(train_df, X_test, y_test)"
   ]
  },
  {
   "cell_type": "markdown",
   "metadata": {},
   "source": [
    "## Experiments with different distance metrics"
   ]
  },
  {
   "cell_type": "code",
   "execution_count": 518,
   "metadata": {
    "collapsed": true
   },
   "outputs": [],
   "source": [
    "def knnClassifier_metric(X_train, y_train, k, metric_, p_):\n",
    "\n",
    "    neigh = KNeighborsClassifier(n_neighbors=k, p=p_, metric=metric_)\n",
    "    neigh.fit(X_train, y_train) \n",
    "\n",
    "    return neigh"
   ]
  },
  {
   "cell_type": "code",
   "execution_count": 519,
   "metadata": {
    "collapsed": true
   },
   "outputs": [],
   "source": [
    "def custom_knn(X_train, y_train, X_test, y_test, metric_, p_):\n",
    "    k_list = [i for i in range(1,901,10)]\n",
    "    test_errors = list()\n",
    "#     train_errors = list()\n",
    "    for k in k_list:\n",
    "        model = knnClassifier_metric(X_train, y_train, k, metric_, p_)\n",
    "        test_errors.append(model.score(X_test, y_test))  \n",
    "#         train_errors.append(model.score(X_train, y_train))\n",
    "#     print(\"Lowest training error: \", min(train_errors))\n",
    "    best_error_rate = max(test_errors)\n",
    "    index_k = np.argmax(test_errors)\n",
    "    best_k = k_list[index_k]\n",
    "    return best_error_rate, best_k"
   ]
  },
  {
   "cell_type": "code",
   "execution_count": 520,
   "metadata": {
    "collapsed": true
   },
   "outputs": [],
   "source": [
    "def mahalanobisNN(X_train, y_train, X_test, y_test):\n",
    "    k_list = [i for i in range(1,901,10)]\n",
    "    test_errors = list()\n",
    "#     train_errors = list()\n",
    "    for k in k_list:\n",
    "        model = KNeighborsClassifier(algorithm='brute', n_neighbors=3, metric='mahalanobis', \n",
    "                                       metric_params={'V': np.cov(X_train)})\n",
    "        model.fit(X_train, y_train) \n",
    "        test_errors.append(model.score(X_test, y_test))  \n",
    "#         train_errors.append(model.score(X_train, y_train))\n",
    "    best_error_rate = max(test_errors)\n",
    "#     print(\"Lowest training error: \", min(train_errors))\n",
    "    index_k = np.argmax(test_errors)\n",
    "    best_k = k_list[index_k]\n",
    "    return best_error_rate, best_k\n"
   ]
  },
  {
   "cell_type": "code",
   "execution_count": 521,
   "metadata": {},
   "outputs": [],
   "source": [
    "def disMetricTable(X_train, y_train, X_test, y_test):\n",
    "    # Manhattan\n",
    "    t_error_table = dict()\n",
    "    best_error_rate, best_k = custom_knn(X_train, y_train, X_test, y_test, 'minkowski', 1)\n",
    "    t_error_table['Manhattan'] = best_error_rate    \n",
    "    \n",
    "    # log10(p) ∈ {0.1,0.2,0.3,...,1}\n",
    "    log_list = [i/10 for i in range(1,11,1)]\n",
    "    log_errors_list = list()\n",
    "    for p in log_list:\n",
    "        model = knnClassifier_metric(X_train, y_train, best_k, 'minkowski', 10**p)\n",
    "        log_errors_list.append(model.score(X_test, y_test))  \n",
    "    best_log_error_rate = max(log_errors_list)\n",
    "    index_k_log = np.argmax(log_errors_list)\n",
    "    best_log = log_list[index_k_log]\n",
    "#     print('Errors when log(p): ', log_errors_list)\n",
    "    t_error_table['log(p)'] = best_log_error_rate\n",
    "    \n",
    "    # Chebyshev Distance\n",
    "    best_error_rate_cheb, best_k_cheb = custom_knn(X_train, y_train, X_test, y_test, 'chebyshev', None)\n",
    "    t_error_table['chebyshev'] = best_error_rate_cheb\n",
    "    \n",
    "    # mahalanobis\n",
    "    best_error_rate_maha, best_k_maha = mahalanobisNN(X_train, y_train, X_test, y_test)\n",
    "    t_error_table['mahalanobis'] = best_error_rate_maha   \n",
    "    t_error_table = pd.DataFrame.from_dict(data=t_error_table, orient='index')\n",
    "    return t_error_table"
   ]
  },
  {
   "cell_type": "code",
   "execution_count": 530,
   "metadata": {},
   "outputs": [
    {
     "data": {
      "text/html": [
       "<div>\n",
       "<style>\n",
       "    .dataframe thead tr:only-child th {\n",
       "        text-align: right;\n",
       "    }\n",
       "\n",
       "    .dataframe thead th {\n",
       "        text-align: left;\n",
       "    }\n",
       "\n",
       "    .dataframe tbody tr th {\n",
       "        vertical-align: top;\n",
       "    }\n",
       "</style>\n",
       "<table border=\"1\" class=\"dataframe\">\n",
       "  <thead>\n",
       "    <tr style=\"text-align: right;\">\n",
       "      <th></th>\n",
       "      <th>Score</th>\n",
       "    </tr>\n",
       "  </thead>\n",
       "  <tbody>\n",
       "    <tr>\n",
       "      <th>chebyshev</th>\n",
       "      <td>1.0</td>\n",
       "    </tr>\n",
       "    <tr>\n",
       "      <th>Manhattan</th>\n",
       "      <td>1.0</td>\n",
       "    </tr>\n",
       "    <tr>\n",
       "      <th>Euclidean</th>\n",
       "      <td>1.0</td>\n",
       "    </tr>\n",
       "  </tbody>\n",
       "</table>\n",
       "</div>"
      ],
      "text/plain": [
       "           Score\n",
       "chebyshev    1.0\n",
       "Manhattan    1.0\n",
       "Euclidean    1.0"
      ]
     },
     "execution_count": 530,
     "metadata": {},
     "output_type": "execute_result"
    }
   ],
   "source": [
    "t_error_table = disMetricTable(X_train, y_train, X_test, y_test)\n",
    "t_error_table.columns = ['Score']\n",
    "t_error_table"
   ]
  },
  {
   "cell_type": "markdown",
   "metadata": {},
   "source": [
    "## Weighted Nearest Neighbors"
   ]
  },
  {
   "cell_type": "code",
   "execution_count": 523,
   "metadata": {
    "collapsed": true
   },
   "outputs": [],
   "source": [
    "def w_knnClassifier_metric(X_train, y_train, k, metric_, p_):\n",
    "\n",
    "    neigh = KNeighborsClassifier(n_neighbors=k, weights='distance', p=p_, metric=metric_)\n",
    "    neigh.fit(X_train, y_train) \n",
    "\n",
    "    return neigh"
   ]
  },
  {
   "cell_type": "code",
   "execution_count": 524,
   "metadata": {
    "collapsed": true
   },
   "outputs": [],
   "source": [
    "def w_custom_knn(X_train, y_train, X_test, y_test, metric_, p_):\n",
    "    k_list = [i for i in range(1,901,10)]\n",
    "    test_errors = list()\n",
    "    for k in k_list:\n",
    "        model = w_knnClassifier_metric(X_train, y_train, k, metric_, p_)\n",
    "        test_errors.append(model.score(X_test, y_test))  \n",
    "    best_error_rate = max(test_errors)\n",
    "    index_k = np.argmax(test_errors)\n",
    "    best_k = k_list[index_k]\n",
    "    return best_error_rate, best_k"
   ]
  },
  {
   "cell_type": "code",
   "execution_count": 525,
   "metadata": {
    "collapsed": true
   },
   "outputs": [],
   "source": [
    "def disMetricTable(X_train, y_train, X_test, y_test):\n",
    "    # Manhattan\n",
    "    t_error_table = dict()\n",
    "    best_error_rate_man, best_k_man = w_custom_knn(X_train, y_train, X_test, y_test, 'minkowski', 1)\n",
    "    t_error_table['Manhattan'] = best_error_rate_man    \n",
    "    \n",
    "    # Euclidean\n",
    "    best_error_rate_Eu, best_k_Eu = w_custom_knn(X_train, y_train, X_test, y_test, 'minkowski', 2)\n",
    "    t_error_table['Euclidean'] = best_error_rate_Eu  \n",
    "    \n",
    "    # Chebyshev Distance\n",
    "    best_error_rate_cheb, best_k_cheb = w_custom_knn(X_train, y_train, X_test, y_test, 'chebyshev', None)\n",
    "    t_error_table['chebyshev'] = best_error_rate_cheb\n",
    "    \n",
    "    t_error_table = pd.DataFrame.from_dict(data=t_error_table, orient='index')\n",
    "    return t_error_table "
   ]
  },
  {
   "cell_type": "code",
   "execution_count": 529,
   "metadata": {},
   "outputs": [
    {
     "data": {
      "text/html": [
       "<div>\n",
       "<style>\n",
       "    .dataframe thead tr:only-child th {\n",
       "        text-align: right;\n",
       "    }\n",
       "\n",
       "    .dataframe thead th {\n",
       "        text-align: left;\n",
       "    }\n",
       "\n",
       "    .dataframe tbody tr th {\n",
       "        vertical-align: top;\n",
       "    }\n",
       "</style>\n",
       "<table border=\"1\" class=\"dataframe\">\n",
       "  <thead>\n",
       "    <tr style=\"text-align: right;\">\n",
       "      <th></th>\n",
       "      <th>Score</th>\n",
       "    </tr>\n",
       "  </thead>\n",
       "  <tbody>\n",
       "    <tr>\n",
       "      <th>chebyshev</th>\n",
       "      <td>1.0</td>\n",
       "    </tr>\n",
       "    <tr>\n",
       "      <th>Manhattan</th>\n",
       "      <td>1.0</td>\n",
       "    </tr>\n",
       "    <tr>\n",
       "      <th>Euclidean</th>\n",
       "      <td>1.0</td>\n",
       "    </tr>\n",
       "  </tbody>\n",
       "</table>\n",
       "</div>"
      ],
      "text/plain": [
       "           Score\n",
       "chebyshev    1.0\n",
       "Manhattan    1.0\n",
       "Euclidean    1.0"
      ]
     },
     "execution_count": 529,
     "metadata": {},
     "output_type": "execute_result"
    }
   ],
   "source": [
    "weighted_error_table = disMetricTable(X_train, y_train, X_test, y_test)\n",
    "weighted_error_table.columns = ['Score']\n",
    "weighted_error_table"
   ]
  },
  {
   "cell_type": "markdown",
   "metadata": {},
   "source": [
    "## Lowest Training Error\n",
    "\n",
    "The lowest training error in this experiment is 0.5781893004115226, which can be interpreted as the model is making decisions randomly. "
   ]
  },
  {
   "cell_type": "code",
   "execution_count": null,
   "metadata": {
    "collapsed": true
   },
   "outputs": [],
   "source": []
  }
 ],
 "metadata": {
  "kernelspec": {
   "display_name": "Python 3",
   "language": "python",
   "name": "python3"
  },
  "language_info": {
   "codemirror_mode": {
    "name": "ipython",
    "version": 3
   },
   "file_extension": ".py",
   "mimetype": "text/x-python",
   "name": "python",
   "nbconvert_exporter": "python",
   "pygments_lexer": "ipython3",
   "version": "3.5.2"
  },
  "widgets": {
   "state": {},
   "version": "1.1.2"
  }
 },
 "nbformat": 4,
 "nbformat_minor": 2
}
